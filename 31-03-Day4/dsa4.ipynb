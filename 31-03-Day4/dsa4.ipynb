{
 "cells": [
  {
   "cell_type": "code",
   "execution_count": 4,
   "id": "8353ef76",
   "metadata": {},
   "outputs": [
    {
     "name": "stdout",
     "output_type": "stream",
     "text": [
      "Is BST\n"
     ]
    }
   ],
   "source": [
    "INT_MAX = 4294967296\n",
    "INT_MIN = -4294967296\n",
    "\n",
    "\n",
    "class Node:\n",
    "\n",
    "\tdef __init__(self, data):\n",
    "\t\tself.data = data\n",
    "\t\tself.left = None\n",
    "\t\tself.right = None\n",
    "\n",
    "\n",
    "def isBST(node):\n",
    "\treturn (isBSTUtil(node, INT_MIN, INT_MAX))\n",
    "\n",
    "def isBSTUtil(node, mini, maxi):\n",
    "\t\n",
    "\tif node is None:\n",
    "\t\treturn True\n",
    "\n",
    "\tif node.data < mini or node.data > maxi:\n",
    "\t\treturn False\n",
    "\n",
    "\treturn (isBSTUtil(node.left, mini, node.data -1) and\n",
    "\t\tisBSTUtil(node.right, node.data+1, maxi))\n",
    "\n",
    "root = Node(4)\n",
    "root.left = Node(2)\n",
    "root.right = Node(5)\n",
    "root.left.left = Node(1)\n",
    "root.left.right = Node(3)\n",
    "\n",
    "if (isBST(root)):\n",
    "\tprint (\"Is BST\")\n",
    "else:\n",
    "\tprint (\"Not a BST\")"
   ]
  },
  {
   "cell_type": "code",
   "execution_count": null,
   "id": "7b3b93b1",
   "metadata": {},
   "outputs": [],
   "source": []
  }
 ],
 "metadata": {
  "kernelspec": {
   "display_name": "Python 3",
   "language": "python",
   "name": "python3"
  },
  "language_info": {
   "codemirror_mode": {
    "name": "ipython",
    "version": 3
   },
   "file_extension": ".py",
   "mimetype": "text/x-python",
   "name": "python",
   "nbconvert_exporter": "python",
   "pygments_lexer": "ipython3",
   "version": "3.8.8"
  }
 },
 "nbformat": 4,
 "nbformat_minor": 5
}
