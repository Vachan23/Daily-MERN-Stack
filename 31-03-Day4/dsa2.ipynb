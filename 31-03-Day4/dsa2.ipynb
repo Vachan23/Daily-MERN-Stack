{
 "cells": [
  {
   "cell_type": "code",
   "execution_count": 1,
   "id": "a33a8fc0",
   "metadata": {},
   "outputs": [
    {
     "name": "stdout",
     "output_type": "stream",
     "text": [
      "10  8  3  \n",
      "10  8  5  \n",
      "10  2  2  \n"
     ]
    }
   ],
   "source": [
    "class Node:\n",
    "\tdef __init__(self, data):\n",
    "\t\tself.data = data\n",
    "\t\tself.left = None\n",
    "\t\tself.right = None\n",
    "\n",
    "def printPaths(root):\n",
    "\tpath = []\n",
    "\tprintPathsRec(root, path, 0)\n",
    "\n",
    "def printPathsRec(root, path, pathLen):\n",
    "\tif root is None:\n",
    "\t\treturn\n",
    "\n",
    "\tif(len(path) > pathLen):\n",
    "\t\tpath[pathLen] = root.data\n",
    "\telse:\n",
    "\t\tpath.append(root.data)\n",
    "\n",
    "\tpathLen = pathLen + 1\n",
    "\n",
    "\tif root.left is None and root.right is None:\n",
    "\t\tprintArray(path, pathLen)\n",
    "\telse:\n",
    "\t\tprintPathsRec(root.left, path, pathLen)\n",
    "\t\tprintPathsRec(root.right, path, pathLen)\n",
    "\n",
    "def printArray(ints, len):\n",
    "\tfor i in ints[0 : len]:\n",
    "\t\tprint(i,\" \",end=\"\")\n",
    "\tprint()\n",
    "\n",
    "root = Node(10)\n",
    "root.left = Node(8)\n",
    "root.right = Node(2)\n",
    "root.left.left = Node(3)\n",
    "root.left.right = Node(5)\n",
    "root.right.left = Node(2)\n",
    "printPaths(root)"
   ]
  },
  {
   "cell_type": "code",
   "execution_count": null,
   "id": "8c53e4ee",
   "metadata": {},
   "outputs": [],
   "source": []
  }
 ],
 "metadata": {
  "kernelspec": {
   "display_name": "Python 3",
   "language": "python",
   "name": "python3"
  },
  "language_info": {
   "codemirror_mode": {
    "name": "ipython",
    "version": 3
   },
   "file_extension": ".py",
   "mimetype": "text/x-python",
   "name": "python",
   "nbconvert_exporter": "python",
   "pygments_lexer": "ipython3",
   "version": "3.8.8"
  }
 },
 "nbformat": 4,
 "nbformat_minor": 5
}
