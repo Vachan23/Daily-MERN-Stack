{
 "cells": [
  {
   "cell_type": "code",
   "execution_count": 10,
   "id": "cc2a8e47",
   "metadata": {},
   "outputs": [
    {
     "name": "stdout",
     "output_type": "stream",
     "text": [
      "Size of the largest BST is 6\n"
     ]
    }
   ],
   "source": [
    "class newNode:\n",
    "\n",
    "\n",
    "\tdef __init__(self, data):\n",
    "\t\tself.data = data\n",
    "\t\tself.left = None\n",
    "\t\tself.right = None\n",
    "\n",
    "def largestBST(node):\n",
    "\n",
    "    Min = [999999999999] \n",
    "    Max = [-999999999999] \n",
    "    max_size = [0] # For size of the largest BST\n",
    "    is_bst = [0]\n",
    "    \n",
    "    largestBSTUtil(node, Min, Max, max_size, is_bst)\n",
    "\n",
    "    return max_size[0]\n",
    "\n",
    "def largestBSTUtil(node, min_ref, max_ref,\n",
    "                        max_size_ref, is_bst_ref):\n",
    "\n",
    "    # Base Case\n",
    "    if node == None:\n",
    "        is_bst_ref[0] = 1 # An empty tree is BST\n",
    "        return 0 # Size of the BST is 0\n",
    "    Min = 999999999999\n",
    "\n",
    "    left_flag = False\n",
    "    \n",
    "    right_flag = False\n",
    "    ls, rs = 0, 0 \n",
    "    \n",
    "    max_ref[0] = -999999999999\n",
    "    ls = largestBSTUtil(node.left, min_ref, max_ref, max_size_ref, is_bst_ref)\n",
    "    if is_bst_ref[0] == 1 and node.data > max_ref[0]:\n",
    "        left_flag = True\n",
    "    Min = min_ref[0]\n",
    "\n",
    "    min_ref[0] = 999999999999\n",
    "    rs = largestBSTUtil(node.right, min_ref, max_ref, max_size_ref, is_bst_ref)\n",
    "    if is_bst_ref[0] == 1 and node.data < min_ref[0]:\n",
    "        right_flag = True\n",
    "        \n",
    "    if Min < min_ref[0]:\n",
    "        min_ref[0] = Min\n",
    "    if node.data < min_ref[0]: \n",
    "        min_ref[0] = node.data\n",
    "    if node.data > max_ref[0]:\n",
    "        max_ref[0] = node.data\n",
    "\n",
    "    if left_flag and right_flag:\n",
    "        if ls + rs + 1 > max_size_ref[0]:\n",
    "            max_size_ref[0] = ls + rs + 1\n",
    "        return ls + rs + 1\n",
    "    else:\n",
    "        return 0\n",
    "\n",
    "\n",
    "\n",
    "\n",
    "root = newNode(50)\n",
    "root.left = newNode(10)\n",
    "root.right = newNode(60)\n",
    "root.left.left = newNode(5)\n",
    "root.left.right = newNode(20)\n",
    "root.right.left = newNode(55)\n",
    "root.right.left.left = newNode(45)\n",
    "root.right.right = newNode(70)\n",
    "root.right.right.left = newNode(65)\n",
    "root.right.right.right = newNode(80)\n",
    "\n",
    "\n",
    "print(\"Size of the largest BST is\", largestBST(root))"
   ]
  },
  {
   "cell_type": "code",
   "execution_count": null,
   "id": "0f881bc0",
   "metadata": {},
   "outputs": [],
   "source": []
  }
 ],
 "metadata": {
  "kernelspec": {
   "display_name": "Python 3",
   "language": "python",
   "name": "python3"
  },
  "language_info": {
   "codemirror_mode": {
    "name": "ipython",
    "version": 3
   },
   "file_extension": ".py",
   "mimetype": "text/x-python",
   "name": "python",
   "nbconvert_exporter": "python",
   "pygments_lexer": "ipython3",
   "version": "3.8.8"
  }
 },
 "nbformat": 4,
 "nbformat_minor": 5
}
