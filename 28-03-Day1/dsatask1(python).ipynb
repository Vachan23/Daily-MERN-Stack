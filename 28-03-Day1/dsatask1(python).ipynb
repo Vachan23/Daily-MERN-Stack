{
 "cells": [
  {
   "cell_type": "code",
   "execution_count": 3,
   "id": "b947d7f9",
   "metadata": {},
   "outputs": [
    {
     "name": "stdout",
     "output_type": "stream",
     "text": [
      "Both are identical\n"
     ]
    }
   ],
   "source": [
    "class Node:\n",
    "    def __init__(self, data):\n",
    "        self.data = data\n",
    "        self.left = None\n",
    "        self.right = None\n",
    "    \n",
    "\n",
    "def trees(a, b):\n",
    "    if a is None and b is None:\n",
    "        return True\n",
    "\n",
    "    if a is not None and b is not None:\n",
    "        return ((a.data == b.data) and trees(a.left, b.left) and trees(a.right,b.right))\n",
    "    \n",
    "    return False\n",
    "\n",
    "\n",
    "root1 = Node(1)\n",
    "root2 = Node(1)\n",
    "root1.left = Node(2)\n",
    "root1.right = Node(3)\n",
    "root1.left.left = Node(4)\n",
    "root1.left.right = Node(5)\n",
    "\n",
    "root2.left = Node(2)\n",
    "root2.right = Node(3)\n",
    "root2.left.left = Node(4)\n",
    "root2.left.right = Node(5)\n",
    "\n",
    "if trees(root1, root2):\n",
    "    print(\"Both are identical\")\n",
    "else:\n",
    "    print(\"Both are not identical\")"
   ]
  },
  {
   "cell_type": "code",
   "execution_count": null,
   "id": "1a54c95d",
   "metadata": {},
   "outputs": [],
   "source": []
  }
 ],
 "metadata": {
  "kernelspec": {
   "display_name": "Python 3",
   "language": "python",
   "name": "python3"
  },
  "language_info": {
   "codemirror_mode": {
    "name": "ipython",
    "version": 3
   },
   "file_extension": ".py",
   "mimetype": "text/x-python",
   "name": "python",
   "nbconvert_exporter": "python",
   "pygments_lexer": "ipython3",
   "version": "3.8.8"
  }
 },
 "nbformat": 4,
 "nbformat_minor": 5
}
