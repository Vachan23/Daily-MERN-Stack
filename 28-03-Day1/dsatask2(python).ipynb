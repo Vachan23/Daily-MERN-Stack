{
 "cells": [
  {
   "cell_type": "code",
   "execution_count": 1,
   "id": "d34bc674",
   "metadata": {},
   "outputs": [],
   "source": [
    "class Node:\n",
    "    def __init__(self, data):\n",
    "        self.data = data\n",
    "        self.left = None\n",
    "        self.right = None"
   ]
  },
  {
   "cell_type": "code",
   "execution_count": 5,
   "id": "aa22d29f",
   "metadata": {},
   "outputs": [],
   "source": [
    "def mDepth(node):\n",
    "    if node is None:\n",
    "        return -1\n",
    "    \n",
    "    else:\n",
    "        lDepth = mDepth(node.left)\n",
    "        rDepth = mDepth(node.right)\n",
    "        \n",
    "        if lDepth > rDepth:\n",
    "            return lDepth+1\n",
    "        else:\n",
    "            return rDepth+1"
   ]
  },
  {
   "cell_type": "code",
   "execution_count": 6,
   "id": "54fe6477",
   "metadata": {},
   "outputs": [],
   "source": [
    "root = Node(1)\n",
    "root.left = Node(2)\n",
    "root.right = Node(3)\n",
    "root.left.left = Node(4)\n",
    "root.left.right = Node(5)"
   ]
  },
  {
   "cell_type": "code",
   "execution_count": 7,
   "id": "d99d4e0f",
   "metadata": {},
   "outputs": [
    {
     "name": "stdout",
     "output_type": "stream",
     "text": [
      "Height :  2\n"
     ]
    }
   ],
   "source": [
    "print(\"Height : \", mDepth(root))"
   ]
  },
  {
   "cell_type": "code",
   "execution_count": null,
   "id": "fcb2b015",
   "metadata": {},
   "outputs": [],
   "source": []
  }
 ],
 "metadata": {
  "kernelspec": {
   "display_name": "Python 3",
   "language": "python",
   "name": "python3"
  },
  "language_info": {
   "codemirror_mode": {
    "name": "ipython",
    "version": 3
   },
   "file_extension": ".py",
   "mimetype": "text/x-python",
   "name": "python",
   "nbconvert_exporter": "python",
   "pygments_lexer": "ipython3",
   "version": "3.8.8"
  }
 },
 "nbformat": 4,
 "nbformat_minor": 5
}
