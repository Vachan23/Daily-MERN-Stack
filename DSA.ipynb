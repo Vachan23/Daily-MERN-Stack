{
 "cells": [
  {
   "cell_type": "code",
   "execution_count": 1,
   "id": "02992579",
   "metadata": {},
   "outputs": [],
   "source": [
    "class Node:\n",
    "    def __init__(self,data, left=None, right=None):\n",
    "        self.data = data\n",
    "        self.left = left\n",
    "        self.right = right"
   ]
  },
  {
   "cell_type": "code",
   "execution_count": 2,
   "id": "0fecdd1d",
   "metadata": {},
   "outputs": [],
   "source": [
    "def insert(root, key):\n",
    "    if root is None:\n",
    "        return Node(key)\n",
    "    \n",
    "    if key<root.data:\n",
    "        root.left = insert(root.left,key)\n",
    "    else:\n",
    "        root.right = insert(root.right,key)\n",
    "    \n",
    "    return root"
   ]
  },
  {
   "cell_type": "code",
   "execution_count": 3,
   "id": "2dfee75b",
   "metadata": {},
   "outputs": [],
   "source": [
    "def search(root,key,parent):\n",
    "    if root is None:\n",
    "        print(\"Key not found\")\n",
    "        return\n",
    "    \n",
    "    if root.data == key:\n",
    "        if parent is None:\n",
    "            print(f'The node with key {key} is root node')\n",
    "        elif key < parent.data:\n",
    "            print(\"The given key is the left node of the node node with key', parent.data\")\n",
    "        else:\n",
    "            print('The given key is the right node of the node with key', parent.data)\n",
    "        return\n",
    "    \n",
    "    if key < root.data:\n",
    "        search(root.left, key, root)\n",
    "    else:\n",
    "        search(root.right, key, root)"
   ]
  },
  {
   "cell_type": "code",
   "execution_count": 4,
   "id": "fb44f180",
   "metadata": {},
   "outputs": [],
   "source": [
    "keys = [15, 10, 20, 8, 12, 16, 25]"
   ]
  },
  {
   "cell_type": "code",
   "execution_count": 5,
   "id": "f0be95d9",
   "metadata": {},
   "outputs": [],
   "source": [
    "root = None"
   ]
  },
  {
   "cell_type": "code",
   "execution_count": 6,
   "id": "2840bee2",
   "metadata": {},
   "outputs": [],
   "source": [
    "for key in keys:\n",
    "    root = insert(root, key)"
   ]
  },
  {
   "cell_type": "code",
   "execution_count": 7,
   "id": "c5a6c2e6",
   "metadata": {},
   "outputs": [
    {
     "name": "stdout",
     "output_type": "stream",
     "text": [
      "The given key is the right node of the node with key 20\n"
     ]
    }
   ],
   "source": [
    "search(root,25,None)"
   ]
  },
  {
   "cell_type": "code",
   "execution_count": null,
   "id": "58ffc954",
   "metadata": {},
   "outputs": [],
   "source": []
  }
 ],
 "metadata": {
  "kernelspec": {
   "display_name": "Python 3",
   "language": "python",
   "name": "python3"
  },
  "language_info": {
   "codemirror_mode": {
    "name": "ipython",
    "version": 3
   },
   "file_extension": ".py",
   "mimetype": "text/x-python",
   "name": "python",
   "nbconvert_exporter": "python",
   "pygments_lexer": "ipython3",
   "version": "3.8.8"
  }
 },
 "nbformat": 4,
 "nbformat_minor": 5
}
