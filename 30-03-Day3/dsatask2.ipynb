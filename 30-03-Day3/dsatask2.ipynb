{
 "cells": [
  {
   "cell_type": "code",
   "execution_count": 1,
   "id": "ee499504",
   "metadata": {},
   "outputs": [],
   "source": [
    "from collections import deque\n",
    " \n",
    "class Node:\n",
    "    def __init__(self, data=None, left=None, right=None):\n",
    "        self.data = data\n",
    "        self.left = left\n",
    "        self.right = right\n",
    " \n",
    " \n",
    "\n",
    "def findRightNode(root, node):\n",
    "    if root is None:\n",
    "        return None\n",
    " \n",
    "    queue = deque()\n",
    "    queue.append(root)\n",
    " \n",
    "    while queue:\n",
    " \n",
    "        size = len(queue)\n",
    " \n",
    "        while size > 0:\n",
    "            size = size - 1\n",
    "            front = queue.popleft()\n",
    " \n",
    "            if front == node:\n",
    "                if size == 0:\n",
    "                    return None\n",
    " \n",
    "                return queue[0]\n",
    " \n",
    "            if front.left:\n",
    "                queue.append(front.left)\n",
    " \n",
    "            if front.right:\n",
    "                queue.append(front.right)\n",
    " \n",
    "    return None"
   ]
  },
  {
   "cell_type": "code",
   "execution_count": 2,
   "id": "5fd0ff74",
   "metadata": {},
   "outputs": [
    {
     "name": "stdout",
     "output_type": "stream",
     "text": [
      "Right node doesn't exist\n"
     ]
    }
   ],
   "source": [
    "root = Node(1)\n",
    "root.left = Node(2)\n",
    "root.right = Node(3)\n",
    "root.left.left = Node(4)\n",
    "root.left.right = Node(5)\n",
    "root.right.left = Node(6)\n",
    "root.right.left.right = Node(8)\n",
    " \n",
    "right = findRightNode(root, 5)\n",
    "if right:\n",
    "    print('Right node is', right.data)\n",
    "else:\n",
    "    print('Right node doesn\\'t exist')"
   ]
  },
  {
   "cell_type": "code",
   "execution_count": null,
   "id": "007ec191",
   "metadata": {},
   "outputs": [],
   "source": []
  }
 ],
 "metadata": {
  "kernelspec": {
   "display_name": "Python 3",
   "language": "python",
   "name": "python3"
  },
  "language_info": {
   "codemirror_mode": {
    "name": "ipython",
    "version": 3
   },
   "file_extension": ".py",
   "mimetype": "text/x-python",
   "name": "python",
   "nbconvert_exporter": "python",
   "pygments_lexer": "ipython3",
   "version": "3.8.8"
  }
 },
 "nbformat": 4,
 "nbformat_minor": 5
}
