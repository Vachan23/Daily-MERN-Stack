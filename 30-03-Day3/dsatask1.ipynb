{
 "cells": [
  {
   "cell_type": "code",
   "execution_count": 1,
   "id": "e3c12bd4",
   "metadata": {},
   "outputs": [],
   "source": [
    "from collections import deque"
   ]
  },
  {
   "cell_type": "code",
   "execution_count": 2,
   "id": "c75c1754",
   "metadata": {},
   "outputs": [],
   "source": [
    "class Node:\n",
    "    def __init__(self, key=None,left=None,right=None):\n",
    "        self.key = key\n",
    "        self.left = left\n",
    "        self.right = right"
   ]
  },
  {
   "cell_type": "code",
   "execution_count": 3,
   "id": "0e72b89a",
   "metadata": {},
   "outputs": [],
   "source": [
    "alter1 = []\n",
    "result1 = []\n",
    "alter2 = []\n",
    "result2 = []"
   ]
  },
  {
   "cell_type": "code",
   "execution_count": 4,
   "id": "a6918e87",
   "metadata": {},
   "outputs": [],
   "source": [
    "def topDown(root):\n",
    "    if root is None:\n",
    "        return\n",
    "    \n",
    "#     print(root.key, end=\" \")\n",
    "    alter1.append(root.key)\n",
    "    \n",
    "    q1 = deque()\n",
    "    q2 = deque()\n",
    "    \n",
    "    if root.left and root.right:\n",
    "        q1.append(root.left)\n",
    "        q2.append(root.right)\n",
    "    \n",
    "    while q1:\n",
    "        n = len(q1)\n",
    "        for i in range(n):\n",
    "            x = q1.popleft()\n",
    "#             print(x.key, end = \" \")\n",
    "            alter1.append(x.key)\n",
    "            \n",
    "            if x.left:\n",
    "                q1.append(x.left)\n",
    "            if x.right:\n",
    "                q1.append(x.right)\n",
    "                \n",
    "            y = q2.popleft()\n",
    "#             print(y.key, end = \" \")\n",
    "            alter1.append(y.key)\n",
    "            if y.right:\n",
    "                q2.append(y.right)\n",
    "            if y.left:\n",
    "                q2.append(y.left)\n",
    "    \n",
    "    l = len(alter1)\n",
    "#     print(f\"The Top down parsing of this tree is: {alter1}\")\n",
    "    for i in range(l):\n",
    "        result = alter1[0::3]\n",
    "    \n",
    "    return result"
   ]
  },
  {
   "cell_type": "code",
   "execution_count": 5,
   "id": "aa4a4686",
   "metadata": {},
   "outputs": [],
   "source": [
    "def bottomUp(root):\n",
    "    if root is None:\n",
    "        return\n",
    "    level = 1\n",
    "    d = {}\n",
    "    d.setdefault(level, []).append(root.key)\n",
    "    q1 = deque()\n",
    "    q2 = deque()\n",
    " \n",
    "    if root.left and root.right:\n",
    "        q1.append(root.left)\n",
    "        q2.append(root.right)\n",
    " \n",
    "    while q1:\n",
    "        level = level + 1\n",
    "        n = len(q1)\n",
    "        while n > 0:\n",
    "            x = q1.popleft()\n",
    "            d.setdefault(level, []).append(x.key)\n",
    "            if x.left:\n",
    "                q1.append(x.left)\n",
    " \n",
    "            if x.right:\n",
    "                q1.append(x.right)\n",
    "            y = q2.popleft()\n",
    "            d.get(level).append(y.key)\n",
    " \n",
    "            if y.right:\n",
    "                q2.append(y.right)\n",
    " \n",
    "            if y.left:\n",
    "                q2.append(y.left)\n",
    " \n",
    "            n = n - 1\n",
    "    for i in reversed(d.keys()):\n",
    "        print(d.get(i), end='')\n",
    "    \n",
    "    "
   ]
  },
  {
   "cell_type": "code",
   "execution_count": 6,
   "id": "c5ce0581",
   "metadata": {},
   "outputs": [],
   "source": [
    "root = Node(1)\n",
    "root.left = Node(2)\n",
    "root.right = Node(3)\n",
    "root.left.left = Node(4)\n",
    "root.left.right = Node(5)\n",
    "root.right.left = Node(6)\n",
    "root.right.right = Node(7)\n",
    "root.left.left.left = Node(8)\n",
    "root.left.left.right = Node(9)\n",
    "root.left.right.left = Node(10)\n",
    "root.left.right.right = Node(11)\n",
    "root.right.left.left = Node(12)\n",
    "root.right.left.right = Node(13)\n",
    "root.right.right.left = Node(14)\n",
    "root.right.right.right = Node(15)"
   ]
  },
  {
   "cell_type": "code",
   "execution_count": 7,
   "id": "2d9e0caa",
   "metadata": {},
   "outputs": [
    {
     "data": {
      "text/plain": [
       "[1, 4, 6, 9, 13]"
      ]
     },
     "execution_count": 7,
     "metadata": {},
     "output_type": "execute_result"
    }
   ],
   "source": [
    "topDown(root)"
   ]
  },
  {
   "cell_type": "code",
   "execution_count": 8,
   "id": "663d8106",
   "metadata": {},
   "outputs": [
    {
     "name": "stdout",
     "output_type": "stream",
     "text": [
      "[8, 15, 9, 14, 10, 13, 11, 12][4, 7, 5, 6][2, 3][1]"
     ]
    }
   ],
   "source": [
    "bottomUp(root)"
   ]
  },
  {
   "cell_type": "code",
   "execution_count": null,
   "id": "4e0b78bc",
   "metadata": {},
   "outputs": [],
   "source": []
  }
 ],
 "metadata": {
  "kernelspec": {
   "display_name": "Python 3",
   "language": "python",
   "name": "python3"
  },
  "language_info": {
   "codemirror_mode": {
    "name": "ipython",
    "version": 3
   },
   "file_extension": ".py",
   "mimetype": "text/x-python",
   "name": "python",
   "nbconvert_exporter": "python",
   "pygments_lexer": "ipython3",
   "version": "3.8.8"
  }
 },
 "nbformat": 4,
 "nbformat_minor": 5
}
