{
 "cells": [
  {
   "cell_type": "code",
   "execution_count": 1,
   "id": "0b873e27",
   "metadata": {},
   "outputs": [],
   "source": [
    "class Node:\n",
    "    def __init__(self, key):\n",
    "        self.key = key\n",
    "        self.left = None\n",
    "        self.right = None"
   ]
  },
  {
   "cell_type": "code",
   "execution_count": 2,
   "id": "11215b15",
   "metadata": {},
   "outputs": [],
   "source": [
    "def countNodes(root):\n",
    "    if root is None:\n",
    "        return 0\n",
    "    return (1+ countNodes(root.left) + countNodes(root.right))"
   ]
  },
  {
   "cell_type": "code",
   "execution_count": null,
   "id": "366014e1",
   "metadata": {},
   "outputs": [],
   "source": []
  }
 ],
 "metadata": {
  "kernelspec": {
   "display_name": "Python 3",
   "language": "python",
   "name": "python3"
  },
  "language_info": {
   "codemirror_mode": {
    "name": "ipython",
    "version": 3
   },
   "file_extension": ".py",
   "mimetype": "text/x-python",
   "name": "python",
   "nbconvert_exporter": "python",
   "pygments_lexer": "ipython3",
   "version": "3.8.8"
  }
 },
 "nbformat": 4,
 "nbformat_minor": 5
}
